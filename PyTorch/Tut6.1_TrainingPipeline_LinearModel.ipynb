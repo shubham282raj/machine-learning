{
 "cells": [
  {
   "cell_type": "markdown",
   "metadata": {},
   "source": [
    "1. Design model \n",
    "    - Input size\n",
    "    - Output size\n",
    "    - Forward Pass\n",
    "1. Construct Loss and Optimizer\n",
    "1. Training Loop\n",
    "    1. Forward Pass: Compute Prediction\n",
    "    1. Backward Pass: Gradients\n",
    "    1. Update Weights"
   ]
  },
  {
   "cell_type": "code",
   "execution_count": 1,
   "metadata": {},
   "outputs": [],
   "source": [
    "import torch\n",
    "import torch.nn as nn"
   ]
  },
  {
   "cell_type": "code",
   "execution_count": 2,
   "metadata": {},
   "outputs": [
    {
     "name": "stdout",
     "output_type": "stream",
     "text": [
      "Number of samples: 4\n",
      "Number of features: 1\n"
     ]
    }
   ],
   "source": [
    "# now as we are using model from torch\n",
    "# x and y need to be 2 dimentional\n",
    "# number of rows -> number of samples\n",
    "# each row -> features\n",
    "x = torch.tensor([[1], [2], [3], [4]], dtype=torch.float32)\n",
    "y = torch.tensor([[2], [4], [6], [8]], dtype=torch.float32)\n",
    "\n",
    "nSamples, nFeatures = x.shape\n",
    "print(f\"Number of samples: {nSamples}\")\n",
    "print(f\"Number of features: {nFeatures}\")"
   ]
  },
  {
   "cell_type": "code",
   "execution_count": 3,
   "metadata": {},
   "outputs": [],
   "source": [
    "xTest = torch.tensor([5], dtype=torch.float32)"
   ]
  },
  {
   "cell_type": "code",
   "execution_count": 4,
   "metadata": {},
   "outputs": [],
   "source": [
    "#Model\n",
    "inputSize = nFeatures\n",
    "outputSize = nFeatures\n",
    "\n",
    "model = nn.Linear(inputSize, outputSize)"
   ]
  },
  {
   "cell_type": "code",
   "execution_count": 5,
   "metadata": {},
   "outputs": [],
   "source": [
    "learning_rate = 0.01\n",
    "n_iters = 100\n",
    "\n",
    "loss = nn.MSELoss()\n",
    "optimizer = torch.optim.SGD(model.parameters(), lr=learning_rate)"
   ]
  },
  {
   "cell_type": "code",
   "execution_count": 6,
   "metadata": {},
   "outputs": [
    {
     "name": "stdout",
     "output_type": "stream",
     "text": [
      "epoch 1: w = 0.120, loss = 25.46641159\n",
      "epoch 11: w = 1.282, loss = 1.00921631\n",
      "epoch 21: w = 1.481, loss = 0.35605887\n",
      "epoch 31: w = 1.525, loss = 0.31995535\n",
      "epoch 41: w = 1.544, loss = 0.30093449\n",
      "epoch 51: w = 1.558, loss = 0.28340822\n",
      "epoch 61: w = 1.571, loss = 0.26691201\n",
      "epoch 71: w = 1.584, loss = 0.25137645\n",
      "epoch 81: w = 1.596, loss = 0.23674494\n",
      "epoch 91: w = 1.608, loss = 0.22296520\n",
      "Prediction after training: f(5) = 9.214\n"
     ]
    }
   ],
   "source": [
    "for epoch in range(n_iters):\n",
    "    #prediction = foward pass\n",
    "    y_pred = model(x)\n",
    "\n",
    "    #loss\n",
    "    l = loss(y, y_pred)\n",
    "\n",
    "    #gradients = backward pass\n",
    "    l.backward()\n",
    "    \n",
    "    #update weights\n",
    "        # with torch.no_grad():\n",
    "        #     w -= learning_rate * w.grad\n",
    "        # we don't need to manually update weights here\n",
    "    optimizer.step()\n",
    "\n",
    "    # zero gradients\n",
    "        # w.grad.zero_()\n",
    "    optimizer.zero_grad()\n",
    "\n",
    "    if epoch % 10 == 0:\n",
    "        [w, b] = model.parameters()\n",
    "        print(f\"epoch {epoch+1}: w = {w[0][0].item():.3f}, loss = {l:.8f}\")\n",
    "\n",
    "print(f\"Prediction after training: f(5) = {model(xTest).item():.3f}\")        \n",
    "    "
   ]
  },
  {
   "cell_type": "markdown",
   "metadata": {},
   "source": [
    "as the model is randomly initializing weights and biases<br> evertime you run the code<br> you get different and maybe sometimes unsatisfying results<br>\n",
    "sometimes you'll get w closer to 2 in 30 epoches<br> other times you'll get w as 1.5 even after 100 epoches"
   ]
  }
 ],
 "metadata": {
  "kernelspec": {
   "display_name": "Python 3",
   "language": "python",
   "name": "python3"
  },
  "language_info": {
   "codemirror_mode": {
    "name": "ipython",
    "version": 3
   },
   "file_extension": ".py",
   "mimetype": "text/x-python",
   "name": "python",
   "nbconvert_exporter": "python",
   "pygments_lexer": "ipython3",
   "version": "3.12.0"
  }
 },
 "nbformat": 4,
 "nbformat_minor": 2
}
