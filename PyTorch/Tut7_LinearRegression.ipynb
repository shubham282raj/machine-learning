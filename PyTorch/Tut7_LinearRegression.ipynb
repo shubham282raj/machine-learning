{
 "cells": [
  {
   "cell_type": "markdown",
   "metadata": {},
   "source": [
    "1. Design Model\n",
    "    - Input Size\n",
    "    - Output Size\n",
    "    - Forward Pass\n",
    "1. Contruct loss and optimizer\n",
    "1. Training Loop\n",
    "    1. Forward Pass: Compute Presidction and loss\n",
    "    2. Backward Pass: Gradients\n",
    "    3. Update Weights"
   ]
  },
  {
   "cell_type": "code",
   "execution_count": 44,
   "metadata": {},
   "outputs": [],
   "source": [
    "import torch\n",
    "import torch.nn as nn\n",
    "import numpy as np\n",
    "from sklearn import datasets\n",
    "import matplotlib.pyplot as plt"
   ]
  },
  {
   "cell_type": "code",
   "execution_count": 45,
   "metadata": {},
   "outputs": [
    {
     "name": "stdout",
     "output_type": "stream",
     "text": [
      "torch.Size([100, 1]) torch.Size([100])\n",
      "torch.Size([100, 1]) torch.Size([100, 1])\n"
     ]
    }
   ],
   "source": [
    "# prepare data\n",
    "xNumpy, yNumpy = datasets.make_regression(n_samples=100, n_features=1, noise=20, random_state=1)\n",
    "#for now xNumpy and yNumpy are \"double\" dtype\n",
    "\n",
    "x = torch.from_numpy(xNumpy.astype(np.float32))\n",
    "y = torch.from_numpy(yNumpy.astype(np.float32))\n",
    "\n",
    "print(x.shape, y.shape)\n",
    "\n",
    "y = y.view(y.shape[0], 1) #reshaping our tensor\n",
    "\n",
    "print(x.shape, y.shape)\n",
    "\n",
    "nSample, nFeatures = x.shape"
   ]
  },
  {
   "cell_type": "code",
   "execution_count": 46,
   "metadata": {},
   "outputs": [],
   "source": [
    "# model\n",
    "\n",
    "inputSize = nFeatures\n",
    "outputSize = 1\n",
    "\n",
    "model = nn.Linear(inputSize, outputSize)"
   ]
  },
  {
   "cell_type": "code",
   "execution_count": 47,
   "metadata": {},
   "outputs": [],
   "source": [
    "# loss and optimizer\n",
    "learningRate = 0.01\n",
    "\n",
    "criterion = nn.MSELoss()\n",
    "optimizer = torch.optim.SGD(model.parameters(), lr=learningRate)"
   ]
  },
  {
   "cell_type": "code",
   "execution_count": 48,
   "metadata": {},
   "outputs": [
    {
     "name": "stdout",
     "output_type": "stream",
     "text": [
      "epoch: 1, loss = 5643.9888\n",
      "epoch: 11, loss = 4184.3545\n",
      "epoch: 21, loss = 3128.3535\n",
      "epoch: 31, loss = 2363.5459\n",
      "epoch: 41, loss = 1809.0839\n",
      "epoch: 51, loss = 1406.7449\n",
      "epoch: 61, loss = 1114.5438\n",
      "epoch: 71, loss = 902.1649\n",
      "epoch: 81, loss = 747.6913\n",
      "epoch: 91, loss = 635.2604\n"
     ]
    }
   ],
   "source": [
    "# training loop\n",
    "numEpochs = 100\n",
    "\n",
    "for epoch in range(numEpochs):\n",
    "    # forward pass and loss\n",
    "    yPredicted = model(x)\n",
    "    loss = criterion(yPredicted, y)\n",
    "\n",
    "    # backward pass \n",
    "    loss.backward()\n",
    "\n",
    "    # update\n",
    "    optimizer.step()\n",
    "\n",
    "    optimizer.zero_grad()\n",
    "\n",
    "    if epoch % 10 == 0:\n",
    "        print(f\"epoch: {epoch+1}, loss = {loss.item():.4f}\")"
   ]
  },
  {
   "cell_type": "code",
   "execution_count": 49,
   "metadata": {},
   "outputs": [
    {
     "data": {
      "image/png": "[encoded data removed]",
      "text/plain": [
       "<Figure size 640x480 with 1 Axes>"
      ]
     },
     "metadata": {},
     "output_type": "display_data"
    }
   ],
   "source": [
    "# plot\n",
    "predicted = model(x).detach().numpy()\n",
    "plt.plot(xNumpy, yNumpy, 'ro')\n",
    "plt.plot(xNumpy, predicted, \"b\")\n",
    "plt.show()"
   ]
  },
  {
   "cell_type": "code",
   "execution_count": null,
   "metadata": {},
   "outputs": [],
   "source": []
  }
 ],
 "metadata": {
  "kernelspec": {
   "display_name": "Python 3",
   "language": "python",
   "name": "python3"
  },
  "language_info": {
   "codemirror_mode": {
    "name": "ipython",
    "version": 3
   },
   "file_extension": ".py",
   "mimetype": "text/x-python",
   "name": "python",
   "nbconvert_exporter": "python",
   "pygments_lexer": "ipython3",
   "version": "3.12.0"
  }
 },
 "nbformat": 4,
 "nbformat_minor": 2
}
