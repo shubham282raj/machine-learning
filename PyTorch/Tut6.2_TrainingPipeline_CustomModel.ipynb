{
 "cells": [
  {
   "cell_type": "markdown",
   "metadata": {},
   "source": [
    "1. Design model \n",
    "    - Input size\n",
    "    - Output size\n",
    "    - Forward Pass\n",
    "1. Construct Loss and Optimizer\n",
    "1. Training Loop\n",
    "    1. Forward Pass: Compute Prediction\n",
    "    1. Backward Pass: Gradients\n",
    "    1. Update Weights"
   ]
  },
  {
   "cell_type": "code",
   "execution_count": 19,
   "metadata": {},
   "outputs": [],
   "source": [
    "import torch\n",
    "import torch.nn as nn"
   ]
  },
  {
   "cell_type": "code",
   "execution_count": 20,
   "metadata": {},
   "outputs": [
    {
     "name": "stdout",
     "output_type": "stream",
     "text": [
      "Number of samples: 4\n",
      "Number of features: 1\n"
     ]
    }
   ],
   "source": [
    "# now as we are using model from torch\n",
    "# x and y need to be 2 dimentional\n",
    "# number of rows -> number of samples\n",
    "# each row -> features\n",
    "x = torch.tensor([[1], [2], [3], [4]], dtype=torch.float32)\n",
    "y = torch.tensor([[2], [4], [6], [8]], dtype=torch.float32)\n",
    "\n",
    "nSamples, nFeatures = x.shape\n",
    "print(f\"Number of samples: {nSamples}\")\n",
    "print(f\"Number of features: {nFeatures}\")"
   ]
  },
  {
   "cell_type": "code",
   "execution_count": 21,
   "metadata": {},
   "outputs": [],
   "source": [
    "xTest = torch.tensor([5], dtype=torch.float32)"
   ]
  },
  {
   "cell_type": "code",
   "execution_count": 22,
   "metadata": {},
   "outputs": [],
   "source": [
    "#Model\n",
    "inputSize = nFeatures\n",
    "outputSize = nFeatures\n",
    "\n",
    "# model = nn.Linear(inputSize, outputSize)\n",
    "\n",
    "class LinearRegression(nn.Module):\n",
    "    def __init__(self, input_dim, output_dim):\n",
    "        super(LinearRegression, self).__init__()\n",
    "        # define layers\n",
    "        self.lin = nn.Linear(input_dim, output_dim)\n",
    "    \n",
    "    def forward(self, x):\n",
    "        return self.lin(x)\n",
    "    \n",
    "model = LinearRegression(inputSize, outputSize)"
   ]
  },
  {
   "cell_type": "code",
   "execution_count": 23,
   "metadata": {},
   "outputs": [],
   "source": [
    "learning_rate = 0.01\n",
    "n_iters = 100\n",
    "\n",
    "loss = nn.MSELoss()\n",
    "optimizer = torch.optim.SGD(model.parameters(), lr=learning_rate)"
   ]
  },
  {
   "cell_type": "code",
   "execution_count": 24,
   "metadata": {},
   "outputs": [
    {
     "name": "stdout",
     "output_type": "stream",
     "text": [
      "epoch 1: w = 0.163, loss = 46.91882324\n",
      "epoch 11: w = 1.731, loss = 1.21529651\n",
      "epoch 21: w = 1.982, loss = 0.03275648\n",
      "epoch 31: w = 2.022, loss = 0.00208486\n",
      "epoch 41: w = 2.027, loss = 0.00121932\n",
      "epoch 51: w = 2.028, loss = 0.00112910\n",
      "epoch 61: w = 2.027, loss = 0.00106288\n",
      "epoch 71: w = 2.026, loss = 0.00100100\n",
      "epoch 81: w = 2.025, loss = 0.00094274\n",
      "epoch 91: w = 2.025, loss = 0.00088786\n",
      "Prediction after training: f(5) = 10.050\n"
     ]
    }
   ],
   "source": [
    "for epoch in range(n_iters):\n",
    "    #prediction = foward pass\n",
    "    y_pred = model(x)\n",
    "\n",
    "    #loss\n",
    "    l = loss(y, y_pred)\n",
    "\n",
    "    #gradients = backward pass\n",
    "    l.backward()\n",
    "    \n",
    "    #update weights\n",
    "        # with torch.no_grad():\n",
    "        #     w -= learning_rate * w.grad\n",
    "        # we don't need to manually update weights here\n",
    "    optimizer.step()\n",
    "\n",
    "    # zero gradients\n",
    "        # w.grad.zero_()\n",
    "    optimizer.zero_grad()\n",
    "\n",
    "    if epoch % 10 == 0:\n",
    "        [w, b] = model.parameters()\n",
    "        print(f\"epoch {epoch+1}: w = {w[0][0].item():.3f}, loss = {l:.8f}\")\n",
    "\n",
    "print(f\"Prediction after training: f(5) = {model(xTest).item():.3f}\")        \n",
    "    "
   ]
  },
  {
   "cell_type": "markdown",
   "metadata": {},
   "source": [
    "as the model is randomly initializing weights and biases<br> evertime you run the code<br> you get different and maybe sometimes unsatisfying results<br>\n",
    "sometimes you'll get w closer to 2 in 30 epoches<br> other times you'll get w as 1.5 even after 100 epoches"
   ]
  }
 ],
 "metadata": {
  "kernelspec": {
   "display_name": "Python 3",
   "language": "python",
   "name": "python3"
  },
  "language_info": {
   "codemirror_mode": {
    "name": "ipython",
    "version": 3
   },
   "file_extension": ".py",
   "mimetype": "text/x-python",
   "name": "python",
   "nbconvert_exporter": "python",
   "pygments_lexer": "ipython3",
   "version": "3.12.0"
  }
 },
 "nbformat": 4,
 "nbformat_minor": 2
}
