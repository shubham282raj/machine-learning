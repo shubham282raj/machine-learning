{
 "cells": [
  {
   "cell_type": "markdown",
   "metadata": {},
   "source": [
    "## Convolutional Neural Networks\n",
    "<img src=\"./Notes/Tut14.png\">"
   ]
  },
  {
   "cell_type": "code",
   "execution_count": 23,
   "metadata": {},
   "outputs": [],
   "source": [
    "import torch\n",
    "import torch.nn as nn\n",
    "import torch.nn.functional as F\n",
    "import torchvision\n",
    "import torchvision.transforms as transforms\n",
    "import matplotlib.pyplot as plt\n",
    "import numpy as np"
   ]
  },
  {
   "cell_type": "code",
   "execution_count": 24,
   "metadata": {},
   "outputs": [],
   "source": [
    "# device configuration\n",
    "device = torch.device(\"cuda\" if torch.cuda.is_available() else \"cpu\")"
   ]
  },
  {
   "cell_type": "code",
   "execution_count": 25,
   "metadata": {},
   "outputs": [],
   "source": [
    "# hyper-parameters\n",
    "num_epochs = 10\n",
    "batch_size = 4\n",
    "learning_rate = 0.001"
   ]
  },
  {
   "cell_type": "code",
   "execution_count": 26,
   "metadata": {},
   "outputs": [],
   "source": [
    "# dataset has PILImage images of range [0,1]\n",
    "# we transform the to tensors of normalized range [-1,-1]\n",
    "transform = transforms.Compose(\n",
    "    [\n",
    "        transforms.ToTensor(),\n",
    "        transforms.Normalize(\n",
    "            (0.5, 0.5, 0.5),\n",
    "            (0.5, 0.5, 0.5)\n",
    "        )\n",
    "    ]\n",
    ")"
   ]
  },
  {
   "cell_type": "code",
   "execution_count": 27,
   "metadata": {},
   "outputs": [
    {
     "name": "stdout",
     "output_type": "stream",
     "text": [
      "Files already downloaded and verified\n",
      "Files already downloaded and verified\n",
      "Dataset CIFAR10\n",
      "    Number of datapoints: 50000\n",
      "    Root location: ./data\n",
      "    Split: Train\n",
      "    StandardTransform\n",
      "Transform: Compose(\n",
      "               ToTensor()\n",
      "               Normalize(mean=(0.5, 0.5, 0.5), std=(0.5, 0.5, 0.5))\n",
      "           )\n",
      "Dataset CIFAR10\n",
      "    Number of datapoints: 10000\n",
      "    Root location: ./data\n",
      "    Split: Test\n",
      "    StandardTransform\n",
      "Transform: Compose(\n",
      "               ToTensor()\n",
      "               Normalize(mean=(0.5, 0.5, 0.5), std=(0.5, 0.5, 0.5))\n",
      "           )\n"
     ]
    }
   ],
   "source": [
    "train_dataset = torchvision.datasets.CIFAR10(\n",
    "    root=\"./data\",\n",
    "    train=True,\n",
    "    download=True,\n",
    "    transform=transform\n",
    ")\n",
    "test_dataset = torchvision.datasets.CIFAR10(\n",
    "    root=\"./data\",\n",
    "    train=False,\n",
    "    download=True,\n",
    "    transform=transform\n",
    ")\n",
    "print(train_dataset)\n",
    "print(test_dataset)"
   ]
  },
  {
   "cell_type": "code",
   "execution_count": 28,
   "metadata": {},
   "outputs": [],
   "source": [
    "train_loader = torch.utils.data.DataLoader(\n",
    "    train_dataset,\n",
    "    batch_size=batch_size,\n",
    "    shuffle=True\n",
    ")\n",
    "test_loader = torch.utils.data.DataLoader(\n",
    "    test_dataset,\n",
    "    batch_size=batch_size,\n",
    "    shuffle=False\n",
    ")"
   ]
  },
  {
   "cell_type": "code",
   "execution_count": 29,
   "metadata": {},
   "outputs": [],
   "source": [
    "classes = ('plane', 'car', 'bird', 'cat', 'deer',\n",
    "           'dog', 'frog', 'horse', 'ship', 'truck')"
   ]
  },
  {
   "cell_type": "code",
   "execution_count": 30,
   "metadata": {},
   "outputs": [],
   "source": [
    "# implement conv net\n",
    "class ConvNet(nn.Module):\n",
    "    def __init__(self):\n",
    "        super(ConvNet, self).__init__()\n",
    "        self.conv1 = nn.Conv2d(3, 6, 5) \n",
    "        # 3 color channel, 6 output channel size, 5x5 kernel size\n",
    "        self.pool = nn.MaxPool2d(2, 2)\n",
    "        # 2x2 kernel size, stride 2\n",
    "        self.conv2 = nn.Conv2d(6, 16, 5) \n",
    "        self.fc1 = nn.Linear(16*5*5, 120)\n",
    "        self.fc2 = nn.Linear(120, 84)\n",
    "        self.fc3 = nn.Linear(84, 10)\n",
    "\n",
    "    def forward(self, x):\n",
    "        x = self.pool(F.relu(self.conv1(x)))\n",
    "        x = self.pool(F.relu(self.conv2(x)))\n",
    "        x = x.view(-1, 16*5*5)\n",
    "        x = F.relu(self.fc1(x))\n",
    "        x = F.relu(self.fc2(x))\n",
    "        x = self.fc3(x)\n",
    "        return x"
   ]
  },
  {
   "cell_type": "code",
   "execution_count": 31,
   "metadata": {},
   "outputs": [],
   "source": [
    "# the model\n",
    "model = ConvNet().to(device)"
   ]
  },
  {
   "cell_type": "code",
   "execution_count": 32,
   "metadata": {},
   "outputs": [],
   "source": [
    "# loss and optimizer\n",
    "criterion = nn.CrossEntropyLoss()\n",
    "optimizer = torch.optim.SGD(\n",
    "    params=model.parameters(),\n",
    "    lr=learning_rate\n",
    ")"
   ]
  },
  {
   "cell_type": "code",
   "execution_count": 33,
   "metadata": {},
   "outputs": [
    {
     "name": "stdout",
     "output_type": "stream",
     "text": [
      "Epoch: [1/10], Steps: [4000/12500], Loss: 2.3138\n",
      "Epoch: [1/10], Steps: [8000/12500], Loss: 2.3024\n",
      "Epoch: [1/10], Steps: [12000/12500], Loss: 2.2558\n",
      "\n",
      "Epoch: [2/10], Steps: [4000/12500], Loss: 2.1246\n",
      "Epoch: [2/10], Steps: [8000/12500], Loss: 1.7913\n",
      "Epoch: [2/10], Steps: [12000/12500], Loss: 1.3108\n",
      "\n",
      "Epoch: [3/10], Steps: [4000/12500], Loss: 1.6126\n",
      "Epoch: [3/10], Steps: [8000/12500], Loss: 1.5885\n",
      "Epoch: [3/10], Steps: [12000/12500], Loss: 1.6789\n",
      "\n",
      "Epoch: [4/10], Steps: [4000/12500], Loss: 1.3668\n",
      "Epoch: [4/10], Steps: [8000/12500], Loss: 1.9954\n",
      "Epoch: [4/10], Steps: [12000/12500], Loss: 1.3118\n",
      "\n",
      "Epoch: [5/10], Steps: [4000/12500], Loss: 0.9735\n",
      "Epoch: [5/10], Steps: [8000/12500], Loss: 1.6273\n",
      "Epoch: [5/10], Steps: [12000/12500], Loss: 1.1795\n",
      "\n",
      "Epoch: [6/10], Steps: [4000/12500], Loss: 1.5386\n",
      "Epoch: [6/10], Steps: [8000/12500], Loss: 1.5024\n",
      "Epoch: [6/10], Steps: [12000/12500], Loss: 1.1892\n",
      "\n",
      "Epoch: [7/10], Steps: [4000/12500], Loss: 1.6561\n",
      "Epoch: [7/10], Steps: [8000/12500], Loss: 1.1251\n",
      "Epoch: [7/10], Steps: [12000/12500], Loss: 1.5137\n",
      "\n",
      "Epoch: [8/10], Steps: [4000/12500], Loss: 1.6565\n",
      "Epoch: [8/10], Steps: [8000/12500], Loss: 1.6662\n",
      "Epoch: [8/10], Steps: [12000/12500], Loss: 1.0690\n",
      "\n",
      "Epoch: [9/10], Steps: [4000/12500], Loss: 1.1926\n",
      "Epoch: [9/10], Steps: [8000/12500], Loss: 1.5427\n",
      "Epoch: [9/10], Steps: [12000/12500], Loss: 2.2589\n",
      "\n",
      "Epoch: [10/10], Steps: [4000/12500], Loss: 0.6492\n",
      "Epoch: [10/10], Steps: [8000/12500], Loss: 0.6817\n",
      "Epoch: [10/10], Steps: [12000/12500], Loss: 1.6095\n",
      "\n"
     ]
    }
   ],
   "source": [
    "# training loop\n",
    "n_total_steps = len(train_loader)\n",
    "\n",
    "for epoch in range(num_epochs):\n",
    "    for i, (images, labels) in enumerate(train_loader):\n",
    "        '''\n",
    "        origin shape: [4, 3, 32, 32] = 4, 3, 1024\n",
    "        input_layer:    3 input channels\n",
    "                        6 output channels\n",
    "                        5 kernel size\n",
    "        '''\n",
    "        images = images.to(device)\n",
    "        labels = labels.to(device)\n",
    "\n",
    "        # forward pass \n",
    "        outputs = model(images)\n",
    "        loss = criterion(outputs, labels)\n",
    "\n",
    "        # backward and optimizer\n",
    "        optimizer.zero_grad()\n",
    "        loss.backward()\n",
    "        optimizer.step()\n",
    "\n",
    "        if (i+1) % 4000 == 0:\n",
    "            print(f\"Epoch: [{epoch+1}/{num_epochs}], Steps: [{i+1}/{n_total_steps}], Loss: {loss.item():.4f}\")\n",
    "    print(\"\")"
   ]
  },
  {
   "cell_type": "code",
   "execution_count": 34,
   "metadata": {},
   "outputs": [
    {
     "name": "stdout",
     "output_type": "stream",
     "text": [
      "Finished Training\n"
     ]
    }
   ],
   "source": [
    "print(\"Finished Training\")"
   ]
  },
  {
   "cell_type": "code",
   "execution_count": 35,
   "metadata": {},
   "outputs": [
    {
     "name": "stdout",
     "output_type": "stream",
     "text": [
      "Accuracy of the network: 57.94%\n",
      "Acccuray of plane: 55.8%\n",
      "Acccuray of car: 73.0%\n",
      "Acccuray of bird: 40.4%\n",
      "Acccuray of car: 29.8%\n",
      "Acccuray of deer: 39.7%\n",
      "Acccuray of dog: 56.0%\n",
      "Acccuray of frog: 73.1%\n",
      "Acccuray of horse: 62.6%\n",
      "Acccuray of ship: 74.9%\n",
      "Acccuray of truck: 74.1%\n"
     ]
    }
   ],
   "source": [
    "with torch.no_grad():\n",
    "    n_correct = 0\n",
    "    n_samples = 0\n",
    "    n_class_correct = [0 for i in range(10)]\n",
    "    n_class_samples = [0 for i in range(10)]\n",
    "    for images, labels in test_loader:\n",
    "        images = images.to(device)\n",
    "        labels = labels.to(device)\n",
    "        outputs = model(images)\n",
    "        # max returns (value, index)\n",
    "        _, predicted = torch.max(outputs, 1)\n",
    "        n_samples += labels.size(0)\n",
    "        n_correct += (predicted == labels).sum().item()\n",
    "\n",
    "        for i in range(batch_size):\n",
    "            label = labels[i]\n",
    "            pred = predicted[i]\n",
    "            if (label == pred):\n",
    "                n_class_correct[label] += 1\n",
    "            n_class_samples[label] += 1\n",
    "    \n",
    "    acc = 100.0 * n_correct / n_samples\n",
    "    print(f\"Accuracy of the network: {acc}%\")\n",
    "\n",
    "    for i in range(10):\n",
    "        acc = 100.0 * n_class_correct[i] / n_class_samples[i]\n",
    "        print(f\"Acccuray of {classes[i]}: {acc}%\")"
   ]
  }
 ],
 "metadata": {
  "kernelspec": {
   "display_name": "Python 3",
   "language": "python",
   "name": "python3"
  },
  "language_info": {
   "codemirror_mode": {
    "name": "ipython",
    "version": 3
   },
   "file_extension": ".py",
   "mimetype": "text/x-python",
   "name": "python",
   "nbconvert_exporter": "python",
   "pygments_lexer": "ipython3",
   "version": "3.12.0"
  }
 },
 "nbformat": 4,
 "nbformat_minor": 2
}
