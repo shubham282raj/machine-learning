{
 "cells": [
  {
   "cell_type": "markdown",
   "metadata": {},
   "source": [
    "1. Design Model\n",
    "    - Input Size\n",
    "    - Output Size\n",
    "    - Forward Pass\n",
    "1. Construct loss and parameters\n",
    "1. Training loop\n",
    "    1. Forward Pass: Computer prediction and loss\n",
    "    1. Backward Pass: Gradients\n",
    "    1. Update Weights"
   ]
  },
  {
   "cell_type": "code",
   "execution_count": 119,
   "metadata": {},
   "outputs": [],
   "source": [
    "import torch\n",
    "import torch.nn as nn\n",
    "import numpy as np\n",
    "from sklearn import datasets\n",
    "from sklearn.preprocessing import StandardScaler\n",
    "from sklearn.model_selection import train_test_split"
   ]
  },
  {
   "cell_type": "code",
   "execution_count": 120,
   "metadata": {},
   "outputs": [
    {
     "name": "stdout",
     "output_type": "stream",
     "text": [
      "Number of samples: 569\n",
      "Number of features: 30\n"
     ]
    }
   ],
   "source": [
    "# prepare data\n",
    "bc = datasets.load_breast_cancer()\n",
    "x, y = bc.data, bc.target\n",
    "\n",
    "nSamples, nFeatures = x.shape\n",
    "print(f\"Number of samples: {nSamples}\")\n",
    "print(f\"Number of features: {nFeatures}\")\n",
    "\n",
    "xTrain, xTest, yTrain, yTest = train_test_split(x, y, test_size=0.2, random_state=1234)"
   ]
  },
  {
   "cell_type": "code",
   "execution_count": 121,
   "metadata": {},
   "outputs": [],
   "source": [
    "# scaling and casting data\n",
    "sc = StandardScaler()\n",
    "xTrain = sc.fit_transform(xTrain)\n",
    "xTest = sc.transform(xTest)\n",
    "\n",
    "xTrain = torch.from_numpy(xTrain.astype(np.float32))\n",
    "xTest = torch.from_numpy(xTest.astype(np.float32))\n",
    "yTrain = torch.from_numpy(yTrain.astype(np.float32))\n",
    "yTest = torch.from_numpy(yTest.astype(np.float32))\n",
    "\n",
    "yTrain = yTrain.view(yTrain.shape[0], 1)\n",
    "yTest = yTest.view(yTest.shape[0], 1)"
   ]
  },
  {
   "cell_type": "code",
   "execution_count": 122,
   "metadata": {},
   "outputs": [],
   "source": [
    "# model\n",
    "# f = wx + b, sigmoid at the end\n",
    "\n",
    "class LogisticRegression(nn.Module):\n",
    "    def __init__(self, nInputFeatures):\n",
    "        super(LogisticRegression, self).__init__()\n",
    "        self.linear = nn.Linear(nInputFeatures, 1)\n",
    "\n",
    "    def forward(self, x):\n",
    "        yPredicted = torch.sigmoid(self.linear(x))\n",
    "        return yPredicted\n",
    "    \n",
    "model = LogisticRegression(nFeatures)"
   ]
  },
  {
   "cell_type": "code",
   "execution_count": 123,
   "metadata": {},
   "outputs": [],
   "source": [
    "# loss and optimizer\n",
    "learningRate = 0.01\n",
    "\n",
    "criterion = nn.BCELoss()\n",
    "optimizer = torch.optim.SGD(model.parameters(), lr=learningRate)"
   ]
  },
  {
   "cell_type": "code",
   "execution_count": 124,
   "metadata": {},
   "outputs": [
    {
     "name": "stdout",
     "output_type": "stream",
     "text": [
      "epoch: 1, loss = 0.8184\n",
      "epoch: 31, loss = 0.4212\n",
      "epoch: 61, loss = 0.3128\n",
      "epoch: 91, loss = 0.2600\n",
      "epoch: 121, loss = 0.2274\n",
      "epoch: 151, loss = 0.2048\n",
      "epoch: 181, loss = 0.1879\n",
      "epoch: 211, loss = 0.1747\n",
      "epoch: 241, loss = 0.1640\n",
      "epoch: 271, loss = 0.1552\n"
     ]
    }
   ],
   "source": [
    "# training loop\n",
    "numEpoch = 300\n",
    "\n",
    "for epoch in range(numEpoch):\n",
    "    # forward pass and loss\n",
    "    yPredicted = model(xTrain)\n",
    "    loss = criterion(yPredicted, yTrain)\n",
    "\n",
    "    # backward pass\n",
    "    loss.backward()\n",
    "\n",
    "    # updates\n",
    "    optimizer.step()\n",
    "\n",
    "    #zero gradients\n",
    "    optimizer.zero_grad()\n",
    "\n",
    "    if epoch % 30 == 0: \n",
    "        print(f\"epoch: {epoch+1}, loss = {loss.item():.4f}\")\n"
   ]
  },
  {
   "cell_type": "code",
   "execution_count": 125,
   "metadata": {},
   "outputs": [
    {
     "name": "stdout",
     "output_type": "stream",
     "text": [
      "Accuracy = 0.9123\n"
     ]
    }
   ],
   "source": [
    "with torch.no_grad():\n",
    "    yPredicted = model(xTest)\n",
    "    yPredicted = yPredicted.round()\n",
    "    acc = yPredicted.eq(yTest).sum() / float(yTest.shape[0]) #eq is equal to\n",
    "    print(f\"Accuracy = {acc:.4f}\")"
   ]
  }
 ],
 "metadata": {
  "kernelspec": {
   "display_name": "Python 3",
   "language": "python",
   "name": "python3"
  },
  "language_info": {
   "codemirror_mode": {
    "name": "ipython",
    "version": 3
   },
   "file_extension": ".py",
   "mimetype": "text/x-python",
   "name": "python",
   "nbconvert_exporter": "python",
   "pygments_lexer": "ipython3",
   "version": "3.12.0"
  }
 },
 "nbformat": 4,
 "nbformat_minor": 2
}
