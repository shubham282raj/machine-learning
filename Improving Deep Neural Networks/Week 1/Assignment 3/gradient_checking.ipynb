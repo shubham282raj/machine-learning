{
 "cells": [
  {
   "cell_type": "code",
   "execution_count": null,
   "metadata": {},
   "outputs": [],
   "source": [
    "import numpy as np\n",
    "from testCases import *\n",
    "from gc_utils import sigmoid, relu, dictionary_to_vector, vector_to_dictionary, gradients_to_vector"
   ]
  },
  {
   "cell_type": "markdown",
   "metadata": {},
   "source": [
    "### 1-D Gradient Checking\n",
    "$J(\\theta) = \\theta x$"
   ]
  },
  {
   "cell_type": "code",
   "execution_count": null,
   "metadata": {},
   "outputs": [],
   "source": [
    "def forward_1d(x, theta):\n",
    "    J = np.dot(x, theta)\n",
    "    return J"
   ]
  },
  {
   "cell_type": "code",
   "execution_count": null,
   "metadata": {},
   "outputs": [],
   "source": [
    "x, theta = 2, 4\n",
    "J = forward_1d(x, theta)\n",
    "print (\"J = \" + str(J))"
   ]
  },
  {
   "cell_type": "code",
   "execution_count": null,
   "metadata": {},
   "outputs": [],
   "source": [
    "def backward_1d(x, theta):\n",
    "    d_theta = x\n",
    "    return d_theta"
   ]
  },
  {
   "cell_type": "code",
   "execution_count": null,
   "metadata": {},
   "outputs": [],
   "source": [
    "x, theta = 2, 4\n",
    "dtheta = backward_1d(x, theta)\n",
    "print (\"dtheta = \" + str(dtheta))"
   ]
  },
  {
   "cell_type": "code",
   "execution_count": null,
   "metadata": {},
   "outputs": [],
   "source": [
    "def gradient_check_1d(x, theta, epsilon = 1e-7):\n",
    "    grad = backward_1d(x, theta)\n",
    "    \n",
    "    grad_approx = 0.5 / epsilon * (forward_1d(x, theta+epsilon) - forward_1d(x, theta-epsilon))\n",
    "\n",
    "    diff = np.linalg.norm(grad-grad_approx) / (np.linalg.norm(grad) + np.linalg.norm(grad_approx))\n",
    "\n",
    "    if diff < 1e-7:\n",
    "        print (\"The gradient is correct!\")\n",
    "    else:\n",
    "        print (\"The gradient is wrong!\")\n",
    "    \n",
    "    return diff"
   ]
  },
  {
   "cell_type": "code",
   "execution_count": null,
   "metadata": {},
   "outputs": [],
   "source": [
    "x, theta = 2, 4\n",
    "difference = gradient_check_1d(x, theta)\n",
    "print(\"difference = \" + str(difference))"
   ]
  },
  {
   "cell_type": "markdown",
   "metadata": {},
   "source": [
    "### N-D Gradient Checking"
   ]
  },
  {
   "cell_type": "code",
   "execution_count": null,
   "metadata": {},
   "outputs": [],
   "source": [
    "def forward(X, Y, params):\n",
    "    m = X.shape[1]\n",
    "    \n",
    "    W1, W2, W3 = params[\"W1\"], params[\"W2\"], params[\"W3\"]\n",
    "    b1, b2, b3 = params[\"b1\"], params[\"b2\"], params[\"b3\"]\n",
    "\n",
    "    Z1 = np.dot(W1, X) + b1\n",
    "    A1 = relu(Z1)\n",
    "\n",
    "    Z2 = np.dot(W2, A1) + b2\n",
    "    A2 = relu(Z2)\n",
    "\n",
    "    Z3 = np.dot(W3, A2) + b3\n",
    "    A3 = sigmoid(Z3)\n",
    "\n",
    "    loss = -1./m * ( np.dot(np.log(A3), Y.T) + np.dot(np.log(1-A3), (1-Y).T) )\n",
    "    loss = np.squeeze(loss)\n",
    "\n",
    "    cache = (Z1, A1, W1, b1, Z2, A2, W2, b2, Z3, A3, W3, b3)\n",
    "    \n",
    "    return loss, cache"
   ]
  },
  {
   "cell_type": "code",
   "execution_count": null,
   "metadata": {},
   "outputs": [],
   "source": [
    "def backward(X, Y, cache):\n",
    "    m = X.shape[1]\n",
    "    (Z1, A1, W1, b1, Z2, A2, W2, b2, Z3, A3, W3, b3) = cache\n",
    "\n",
    "    dZ3 = A3 - Y\n",
    "    dW3 = 1./m * np.dot(dZ3, A2.T)\n",
    "    db3 = 1./m * np.sum(dZ3, axis=1, keepdims = True)\n",
    "    \n",
    "    dA2 = np.dot(W3.T, dZ3)\n",
    "    dZ2 = np.multiply(dA2, np.int64(A2 > 0))\n",
    "    dW2 = 1./m * np.dot(dZ2, A1.T)\n",
    "    db2 = 1./m * np.sum(dZ2, axis=1, keepdims = True)\n",
    "    \n",
    "    dA1 = np.dot(W2.T, dZ2)\n",
    "    dZ1 = np.multiply(dA1, np.int64(A1 > 0))\n",
    "    dW1 = 1./m * np.dot(dZ1, X.T)\n",
    "    db1 = 1./m * np.sum(dZ1, axis=1, keepdims = True)\n",
    "    \n",
    "    gradients = {\"dZ3\": dZ3, \"dW3\": dW3, \"db3\": db3,\n",
    "                 \"dA2\": dA2, \"dZ2\": dZ2, \"dW2\": dW2, \"db2\": db2,\n",
    "                 \"dA1\": dA1, \"dZ1\": dZ1, \"dW1\": dW1, \"db1\": db1}\n",
    "    \n",
    "    return gradients"
   ]
  },
  {
   "cell_type": "code",
   "execution_count": null,
   "metadata": {},
   "outputs": [],
   "source": [
    "import copy\n",
    "\n",
    "def grad_check(parameters, gradients, X, Y, epsilon = 1e-7):\n",
    "\n",
    "    # reshaping parameters dict into linear list\n",
    "    keys = []\n",
    "    lin_params = []\n",
    "    for key, value in parameters.items():\n",
    "        lin_params += list(value.reshape(-1))\n",
    "        keys.append(key)\n",
    "\n",
    "    # reshaping gradients dict into linear list\n",
    "    lin_grads = []\n",
    "    for key in keys:\n",
    "        lin_grads += list(gradients[\"d\" + key].reshape(-1))\n",
    "\n",
    "    # empty grad approx list\n",
    "    gradapprox = []\n",
    "\n",
    "    # get position of every elemetn in paramters\n",
    "    # i.e. [param_key, row, col]\n",
    "    for param_key, param_value in parameters.items():\n",
    "        for row in range(param_value.shape[0]):\n",
    "            for col in range(param_value.shape[1]):\n",
    "                \n",
    "                # deep copy parameters twice\n",
    "                # change element at only the position we got\n",
    "                theta_plus = copy.deepcopy(parameters)\n",
    "                theta_plus[param_key][row][col] += epsilon\n",
    "\n",
    "                theta_minus = copy.deepcopy(parameters)\n",
    "                theta_minus[param_key][row][col] -= epsilon\n",
    "\n",
    "                J_plus, _ = forward(X, Y, theta_plus)\n",
    "                J_minus, _ = forward(X, Y, theta_minus)\n",
    "\n",
    "                # calculate the approx. grad for the positional element\n",
    "                approx = 0.5/epsilon * (J_plus - J_minus)\n",
    "                gradapprox.append(approx)\n",
    "\n",
    "    # convert list to np array for the - operator to work\n",
    "    lin_grads = np.array(lin_grads)\n",
    "    gradapprox = np.array(gradapprox)\n",
    "    \n",
    "    # get the difference\n",
    "    numerator = np.linalg.norm(lin_grads - gradapprox)\n",
    "    denominator = np.linalg.norm(lin_grads) + np.linalg.norm(gradapprox)\n",
    "    difference = numerator/denominator\n",
    "\n",
    "    if difference > 2e-7:\n",
    "        print (\"\\033[93m\" + \"There is a mistake in the backward propagation! difference = \" + str(difference) + \"\\033[0m\")\n",
    "    else:\n",
    "        print (\"\\033[92m\" + \"Your backward propagation works perfectly fine! difference = \" + str(difference) + \"\\033[0m\")\n",
    "    \n",
    "    return difference"
   ]
  },
  {
   "cell_type": "code",
   "execution_count": null,
   "metadata": {},
   "outputs": [],
   "source": [
    "X, Y, parameters = gradient_check_n_test_case()\n",
    "\n",
    "cost, cache = forward(X, Y, parameters)\n",
    "gradients = backward(X, Y, cache)\n",
    "difference = grad_check(parameters, gradients, X, Y)"
   ]
  }
 ],
 "metadata": {
  "kernelspec": {
   "display_name": "Python 3",
   "language": "python",
   "name": "python3"
  },
  "language_info": {
   "codemirror_mode": {
    "name": "ipython",
    "version": 3
   },
   "file_extension": ".py",
   "mimetype": "text/x-python",
   "name": "python",
   "nbconvert_exporter": "python",
   "pygments_lexer": "ipython3",
   "version": "3.12.0"
  }
 },
 "nbformat": 4,
 "nbformat_minor": 2
}
