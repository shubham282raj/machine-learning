{
 "cells": [
  {
   "cell_type": "code",
   "execution_count": 239,
   "metadata": {},
   "outputs": [],
   "source": [
    "#importing libraries\n",
    "import numpy as np\n",
    "import matplotlib.pyplot as plt\n",
    "import h5py\n",
    "import scipy\n",
    "from PIL import Image\n",
    "from scipy import ndimage"
   ]
  },
  {
   "cell_type": "code",
   "execution_count": 240,
   "metadata": {},
   "outputs": [
    {
     "name": "stdout",
     "output_type": "stream",
     "text": [
      "(209, 64, 64, 3) (1, 209)\n"
     ]
    }
   ],
   "source": [
    "# importing dataset\n",
    "def loadDataset():\n",
    "    trainDataset = h5py.File(\"../../Data/NeuralNetworkDeepLearning/Week2/train_catvnoncat.h5\", \"r\")\n",
    "    trainDatasetX = np.array(trainDataset[\"train_set_x\"][:])\n",
    "    trainDatasetY = np.array(trainDataset[\"train_set_y\"][:])\n",
    "    \n",
    "    testDataset = h5py.File(\"../../Data/NeuralNetworkDeepLearning/Week2/test_catvnoncat.h5\")\n",
    "    testDatasetX = np.array(testDataset[\"test_set_x\"][:])\n",
    "    testDatasetY = np.array(testDataset[\"test_set_y\"][:])\n",
    "\n",
    "    classes = np.array(trainDataset[\"list_classes\"][:])\n",
    "\n",
    "    trainDatasetY = trainDatasetY.reshape((1, trainDatasetY.shape[0]))\n",
    "    testDatasetY = testDatasetY.reshape((1, testDatasetY.shape[0]))\n",
    "    return trainDatasetX, trainDatasetY, testDatasetX, testDatasetY, classes\n",
    "\n",
    "trainDatasetX, trainDatasetY, testDatasetX, testDatasetY, classes = loadDataset()\n",
    "print(trainDatasetX.shape, trainDatasetY.shape)"
   ]
  },
  {
   "cell_type": "code",
   "execution_count": 241,
   "metadata": {},
   "outputs": [
    {
     "data": {
      "image/png": "[encoded data removed]",
      "text/plain": [
       "<Figure size 640x480 with 1 Axes>"
      ]
     },
     "metadata": {},
     "output_type": "display_data"
    }
   ],
   "source": [
    "index = 27\n",
    "plt.imshow(trainDatasetX[index])\n",
    "plt.show()"
   ]
  },
  {
   "cell_type": "code",
   "execution_count": 242,
   "metadata": {},
   "outputs": [
    {
     "name": "stdout",
     "output_type": "stream",
     "text": [
      "Number of training examples:  209\n",
      "Height of image:  64 px\n",
      "Shape of image:  (64, 64, 3)\n",
      "Shape of training dataset X:  (209, 64, 64, 3)\n",
      "Shape of training dataset Y:  (1, 209)\n"
     ]
    }
   ],
   "source": [
    "#getting parameters\n",
    "m_train = trainDatasetX.shape[0]\n",
    "num_px = trainDatasetX.shape[1]\n",
    "print(\"Number of training examples: \", m_train)\n",
    "print(\"Height of image: \", num_px, \"px\")\n",
    "print(\"Shape of image: \", trainDatasetX[0].shape)\n",
    "print(\"Shape of training dataset X: \", trainDatasetX.shape)\n",
    "print(\"Shape of training dataset Y: \", trainDatasetY.shape)"
   ]
  },
  {
   "cell_type": "code",
   "execution_count": 243,
   "metadata": {},
   "outputs": [
    {
     "name": "stdout",
     "output_type": "stream",
     "text": [
      "Shape of XFlatten:  (12288, 209)\n",
      "Shape of XTestFlatten:  (12288, 50)\n"
     ]
    }
   ],
   "source": [
    "#reshaping and flattening dataset\n",
    "XTrainFlatten = trainDatasetX.reshape((trainDatasetX.shape[0], -1)).T\n",
    "XTestFlatten = testDatasetX.reshape((testDatasetX.shape[0], -1)).T\n",
    "print(\"Shape of XFlatten: \", XTrainFlatten.shape)\n",
    "print(\"Shape of XTestFlatten: \", XTestFlatten.shape)"
   ]
  },
  {
   "cell_type": "code",
   "execution_count": 244,
   "metadata": {},
   "outputs": [],
   "source": [
    "#standardizing the images\n",
    "XTrainFlatten = XTrainFlatten / 255\n",
    "XTestFlatten = XTestFlatten / 255"
   ]
  },
  {
   "cell_type": "code",
   "execution_count": 245,
   "metadata": {},
   "outputs": [],
   "source": [
    "#Sigmoid Function\n",
    "def sigmoid(z):\n",
    "    return 1/(1+np.exp(-z))"
   ]
  },
  {
   "cell_type": "code",
   "execution_count": 246,
   "metadata": {},
   "outputs": [],
   "source": [
    "#initializing parameters\n",
    "def initializeParameters(dim):\n",
    "    w = np.zeros((dim, 1))\n",
    "    b = 0\n",
    "    return w, b"
   ]
  },
  {
   "cell_type": "code",
   "execution_count": 247,
   "metadata": {},
   "outputs": [],
   "source": [
    "#forward and backward propagation\n",
    "def propagate(w, b, X, Y):\n",
    "    m = X.shape[1]\n",
    "\n",
    "    #forward prop\n",
    "    Z = w.T.dot(X) + b\n",
    "    A = sigmoid(Z)\n",
    "    cost = -1/m * np.sum( Y * np.log(A) + (1-Y) * np.log(1-A))\n",
    "\n",
    "    #backward prop\n",
    "    dz = A - Y\n",
    "    db = 1/m * np.sum(dz)\n",
    "    dw = 1/m * X.dot(dz.T)\n",
    "    grad = {\"dw\": dw,\n",
    "            \"db\": db}\n",
    "    \n",
    "    return grad, cost"
   ]
  },
  {
   "cell_type": "code",
   "execution_count": 248,
   "metadata": {},
   "outputs": [],
   "source": [
    "#gradient descent \n",
    "def gradientDescent(X, Y, numIterations, learningRate, printCost = False):\n",
    "    nx = X.shape[0]\n",
    "    m = X.shape[1]\n",
    "    w, b = initializeParameters(nx)\n",
    "    costs = []\n",
    "\n",
    "    for i in range(numIterations):\n",
    "        grad, cost = propagate(w, b, X, Y)\n",
    "        costs.append(cost)\n",
    "        w -= grad[\"dw\"] * learningRate\n",
    "        b -= grad[\"db\"] * learningRate\n",
    "\n",
    "        if(printCost and i%100==0):\n",
    "            print(f\"Cost after {i} iterations: {cost}\")\n",
    "    \n",
    "    params = {\"w\": w,\n",
    "              \"b\": b}\n",
    "    \n",
    "    return params, costs"
   ]
  },
  {
   "cell_type": "code",
   "execution_count": 249,
   "metadata": {},
   "outputs": [
    {
     "name": "stdout",
     "output_type": "stream",
     "text": [
      "Cost after 0 iterations: 0.6931471805599453\n",
      "Cost after 100 iterations: 0.5845083636993086\n",
      "Cost after 200 iterations: 0.46694904094655476\n",
      "Cost after 300 iterations: 0.37600686694802077\n",
      "Cost after 400 iterations: 0.3314632893282512\n",
      "Cost after 500 iterations: 0.30327306747438293\n",
      "Cost after 600 iterations: 0.27987958658260487\n",
      "Cost after 700 iterations: 0.2600421369258757\n",
      "Cost after 800 iterations: 0.2429406846779662\n",
      "Cost after 900 iterations: 0.22800422256726066\n",
      "Cost after 1000 iterations: 0.2148195137844964\n",
      "Cost after 1100 iterations: 0.20307819060644985\n",
      "Cost after 1200 iterations: 0.19254427716706862\n",
      "Cost after 1300 iterations: 0.18303333796883503\n",
      "Cost after 1400 iterations: 0.17439859438448874\n",
      "Cost after 1500 iterations: 0.16652139705400335\n",
      "Cost after 1600 iterations: 0.15930451829756614\n",
      "Cost after 1700 iterations: 0.15266732471296507\n",
      "Cost after 1800 iterations: 0.1465422350398234\n",
      "Cost after 1900 iterations: 0.14087207570310156\n"
     ]
    }
   ],
   "source": [
    "#running gradient descent on our dataset\n",
    "params, costs = gradientDescent(XTrainFlatten, trainDatasetY, numIterations = 2000, learningRate = 0.005, printCost = True)"
   ]
  },
  {
   "cell_type": "code",
   "execution_count": 250,
   "metadata": {},
   "outputs": [
    {
     "data": {
      "image/png": "[encoded data removed]",
      "text/plain": [
       "<Figure size 640x480 with 1 Axes>"
      ]
     },
     "metadata": {},
     "output_type": "display_data"
    }
   ],
   "source": [
    "#plotting costs\n",
    "plt.plot(costs)\n",
    "plt.show()"
   ]
  },
  {
   "cell_type": "code",
   "execution_count": 251,
   "metadata": {},
   "outputs": [
    {
     "name": "stdout",
     "output_type": "stream",
     "text": [
      "train accuracy: 99.04306220095694\n",
      "test accuracy: 70.0\n"
     ]
    }
   ],
   "source": [
    "#predictions\n",
    "def predict(params, X, Y):\n",
    "    w = params[\"w\"]\n",
    "    b = params[\"b\"]\n",
    "    Z = w.T.dot(X) + b\n",
    "    A = sigmoid(Z)\n",
    "    Y_Prediction = (A > 0.5) * 1.0\n",
    "    return Y_Prediction\n",
    "\n",
    "#checking accuracy\n",
    "trainPrediction = predict(params, XTrainFlatten, trainDatasetY)\n",
    "testPrediction = predict(params, XTestFlatten, testDatasetY)\n",
    "print(f\"train accuracy: {100-np.mean(np.abs(trainPrediction-trainDatasetY))*100}\")\n",
    "print(f\"test accuracy: {100-np.mean(np.abs(testPrediction-testDatasetY))*100}\")"
   ]
  }
 ],
 "metadata": {
  "kernelspec": {
   "display_name": "Python 3",
   "language": "python",
   "name": "python3"
  },
  "language_info": {
   "codemirror_mode": {
    "name": "ipython",
    "version": 3
   },
   "file_extension": ".py",
   "mimetype": "text/x-python",
   "name": "python",
   "nbconvert_exporter": "python",
   "pygments_lexer": "ipython3",
   "version": "3.12.0"
  }
 },
 "nbformat": 4,
 "nbformat_minor": 2
}
