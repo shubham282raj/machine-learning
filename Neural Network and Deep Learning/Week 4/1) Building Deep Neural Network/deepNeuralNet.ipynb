{
 "cells": [
  {
   "cell_type": "code",
   "execution_count": 17,
   "metadata": {},
   "outputs": [],
   "source": [
    "#loading required libraries\n",
    "import numpy as np\n",
    "import h5py\n",
    "import matplotlib.pyplot as plt"
   ]
  },
  {
   "cell_type": "code",
   "execution_count": 18,
   "metadata": {},
   "outputs": [],
   "source": [
    "#some magic I don't understand\n",
    "# %matplotlib inline\n",
    "plt.rcParams['figure.figsize'] = (5.0, 4.0) # set default size of plots\n",
    "plt.rcParams['image.interpolation'] = 'nearest'\n",
    "plt.rcParams['image.cmap'] = 'gray'\n",
    "\n",
    "# %load_ext autoreload\n",
    "# %autoreload 2\n",
    "\n",
    "#except for this line\n",
    "np.random.seed(1)"
   ]
  },
  {
   "cell_type": "markdown",
   "metadata": {},
   "source": [
    "# Initializing Parameters"
   ]
  },
  {
   "cell_type": "code",
   "execution_count": 19,
   "metadata": {},
   "outputs": [],
   "source": [
    "def initializeParams(nx, nh, ny):\n",
    "    \"\"\"\n",
    "    Returns w1, b1, w2, b2 in a dictionary \"params\"\n",
    "    \"\"\"\n",
    "    w1 = np.random.rand(nh, nx) * 0.01\n",
    "    b1 = np.zeros((nh, 1))\n",
    "    w2 = np.random.rand(ny, nh) * 0.01\n",
    "    b2 = np.zeros((ny, 1))\n",
    "\n",
    "    params = {\n",
    "        \"w1\": w1,\n",
    "        \"b1\": b1,\n",
    "        \"w2\": w2,\n",
    "        \"b2\": b2\n",
    "    }\n",
    "\n",
    "    return params"
   ]
  },
  {
   "cell_type": "code",
   "execution_count": 20,
   "metadata": {},
   "outputs": [],
   "source": [
    "def initializeParamsDeep(layerDims):\n",
    "    assert (layerDims.shape == (len(layerDims),))\n",
    "\n",
    "    np.random.seed(3)\n",
    "    params = {}\n",
    "\n",
    "    for i in range(1, len(layerDims)):\n",
    "        w = np.random.rand(layerDims[i], layerDims[i-1])\n",
    "        b = np.zeros((layerDims[i], 1))\n",
    "        params[f\"w{i}\"] = w\n",
    "        params[f\"b{i}\"] = b\n",
    "    \n",
    "        assert(params[f\"w{i}\"].shape == (layerDims[i], layerDims[i-1]))\n",
    "        assert(params[f\"b{i}\"].shape == (layerDims[i], 1))\n",
    "    \n",
    "    return params"
   ]
  },
  {
   "cell_type": "markdown",
   "metadata": {},
   "source": [
    "# Mathematical Funtions"
   ]
  },
  {
   "cell_type": "code",
   "execution_count": 21,
   "metadata": {},
   "outputs": [],
   "source": [
    "def sigmoid(z):\n",
    "    a = 1/(1 + np.exp(-z))\n",
    "    cache = z\n",
    "    return a, cache"
   ]
  },
  {
   "cell_type": "code",
   "execution_count": 22,
   "metadata": {},
   "outputs": [],
   "source": [
    "def sigmoidBackward(da, cache):\n",
    "    z = cache\n",
    "    \n",
    "    s = 1/(1+np.exp(-z))\n",
    "    dz = da * s * (1-s)\n",
    "    \n",
    "    assert (dz.shape == z.shape)\n",
    "    \n",
    "    return dz"
   ]
  },
  {
   "cell_type": "code",
   "execution_count": 23,
   "metadata": {},
   "outputs": [],
   "source": [
    "def relu(z):\n",
    "    a = np.maximum(0,z)\n",
    "    assert(a.shape == z.shape)\n",
    "    cache = z\n",
    "    return a, cache"
   ]
  },
  {
   "cell_type": "code",
   "execution_count": 24,
   "metadata": {},
   "outputs": [],
   "source": [
    "def reluBackward(da, cache):\n",
    "    z = cache\n",
    "    dz = np.array(da, copy=True) # just converting dz to a correct object.\n",
    "    \n",
    "    # When z <= 0, you should set dz to 0 as well. \n",
    "    dz[z <= 0] = 0\n",
    "    \n",
    "    assert (dz.shape == z.shape)\n",
    "    \n",
    "    return dz"
   ]
  },
  {
   "cell_type": "markdown",
   "metadata": {},
   "source": [
    "# Forward Propagation"
   ]
  },
  {
   "cell_type": "code",
   "execution_count": 25,
   "metadata": {},
   "outputs": [],
   "source": [
    "#linear forward\n",
    "def linearForward(a, w, b):\n",
    "    z = w.dot(a) + b\n",
    "    cache = (a, w, b)\n",
    "\n",
    "    assert(z.shape == (w.shape[0], a.shape[1]))\n",
    "\n",
    "    return z, cache"
   ]
  },
  {
   "cell_type": "code",
   "execution_count": 26,
   "metadata": {},
   "outputs": [],
   "source": [
    "def linearActivationForward(aPrev, w, b, activation):\n",
    "    z, linearCache = linearForward(aPrev, w, b)\n",
    "    if activation == \"sigmoid\":\n",
    "        a, activationCache = sigmoid(z)\n",
    "    elif activation == \"relu\":\n",
    "        a, activationCache = relu(z)\n",
    "    \n",
    "    assert (a.shape == (w.shape[0], aPrev.shape[1]))\n",
    "    cache = (linearCache, activationCache)\n",
    "\n",
    "    return a, cache\n"
   ]
  },
  {
   "cell_type": "code",
   "execution_count": 27,
   "metadata": {},
   "outputs": [],
   "source": [
    "def LModelForward(x, params):\n",
    "    \"\"\"\n",
    "        return AL; last post activation value\n",
    "        cache: list of cache containing every cache of linearActivationForward(); L-1 caches from 0 to L-2\n",
    "    \"\"\"\n",
    "\n",
    "    caches = []\n",
    "    a = x\n",
    "    L = len(params) // 2    #number of layers in the deep neural net\n",
    "    for i in range(1,L):\n",
    "        aPrev = a\n",
    "        a, cache = linearActivationForward(aPrev, params[f\"w{i}\"], params[f\"b{i}\"], \"relu\")\n",
    "        caches.append(cache)\n",
    "\n",
    "    al , cache = linearActivationForward(a, params[f\"w{L}\"], params[f\"b{L}\"], \"sigmoid\")\n",
    "    cache.append(cache)\n",
    "\n",
    "    assert (al.shape == (1, x.shape[1]))\n",
    "\n",
    "    return al, caches\n"
   ]
  },
  {
   "cell_type": "markdown",
   "metadata": {},
   "source": [
    "# Compute Loss Function"
   ]
  },
  {
   "cell_type": "code",
   "execution_count": 28,
   "metadata": {},
   "outputs": [],
   "source": [
    "def computeCost(al, y):\n",
    "    m = y.shape[1]\n",
    "    cost = -1./m * ( y.dot(np.log(al).T) + (1-y).dot(np.log(1-al).T) )\n",
    "    cost = np.squeeze(cost)\n",
    "    assert(cost.shape == ())\n",
    "    return cost"
   ]
  },
  {
   "cell_type": "markdown",
   "metadata": {},
   "source": [
    "# BackWard Propagation\n",
    "### Linear Backward"
   ]
  },
  {
   "cell_type": "code",
   "execution_count": 29,
   "metadata": {},
   "outputs": [],
   "source": [
    "def linearBackward(dz, cache):\n",
    "    # cache = ( aPrev, w, b ) coming from the forward propagation\n",
    "    aPrev, w, b = cache\n",
    "    m = aPrev.shape[1]\n",
    "\n",
    "    dw = 1./m * dz.dot(aPrev.T)\n",
    "    db = 1./m * np.sum(dz, axis = 1, keepdims= True)\n",
    "    daPrev = w.T.dot(dz)\n",
    "\n",
    "    assert (daPrev.shape == aPrev.shape)\n",
    "    assert (dw.shape == w.shape)\n",
    "    assert (db.shape == b.shape)\n",
    "\n",
    "    return daPrev, dw, db"
   ]
  },
  {
   "cell_type": "code",
   "execution_count": 30,
   "metadata": {},
   "outputs": [],
   "source": [
    "def linearActivationBackward(da, cache, activation):\n",
    "    linearCache, activationCache = cache\n",
    "    \n",
    "    if activation == \"sigmoid\":\n",
    "        dz = sigmoidBackward(da, activationCache)\n",
    "    elif activation == \"relu\":\n",
    "        dz = reluBackward(da, activationCache)\n",
    "    \n",
    "    daPrev , dw, db = linearBackward(dz, linearCache)\n",
    "\n",
    "    return daPrev, dw, db"
   ]
  },
  {
   "cell_type": "code",
   "execution_count": 31,
   "metadata": {},
   "outputs": [],
   "source": [
    "def LModelBackward(al, y, cache):\n",
    "    grads = {}\n",
    "    l = len(cache)\n",
    "    m = al.shape[1]\n",
    "    y = y.reshape(al.shape)\n",
    "\n",
    "    dal = -( np.divide(y, al) - np.divide(1-y, 1-al) )\n",
    "\n",
    "    currentCache = cache[l-1]\n",
    "    grads[f\"da{l-1}\"], grads[f\"dw{l}\"], grads[f\"db{l}\"] = linearActivationBackward(dal, currentCache, \"sigmoid\")\n",
    "\n",
    "    for i in reversed(range(l-1)):\n",
    "        currentCache = cache[i]\n",
    "        grads[f\"da{i}\"], grads[f\"dw{i+1}\"], grads[f\"db{i+1}\"] = linearActivationBackward(grads[f\"da{i+1}\"], currentCache, \"relu\")\n",
    "\n",
    "    return grads"
   ]
  },
  {
   "cell_type": "code",
   "execution_count": 32,
   "metadata": {},
   "outputs": [],
   "source": [
    "def updateParams(params, grads, learningRate):\n",
    "    l = len(params) // 2\n",
    "    for i in range(l):\n",
    "        params[f\"w{i+1}\"] -= learningRate * grads[f\"dw{i+1}\"]\n",
    "        params[f\"b{i+1}\"] -= learningRate * grads[f\"db{i+1}\"]\n",
    "\n",
    "    return params"
   ]
  }
 ],
 "metadata": {
  "kernelspec": {
   "display_name": "Python 3",
   "language": "python",
   "name": "python3"
  },
  "language_info": {
   "codemirror_mode": {
    "name": "ipython",
    "version": 3
   },
   "file_extension": ".py",
   "mimetype": "text/x-python",
   "name": "python",
   "nbconvert_exporter": "python",
   "pygments_lexer": "ipython3",
   "version": "3.12.0"
  }
 },
 "nbformat": 4,
 "nbformat_minor": 2
}
